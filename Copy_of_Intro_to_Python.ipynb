{
  "nbformat": 4,
  "nbformat_minor": 0,
  "metadata": {
    "colab": {
      "name": "Copy of Intro to Python",
      "provenance": [],
      "collapsed_sections": [],
      "include_colab_link": true
    },
    "kernelspec": {
      "name": "python3",
      "display_name": "Python 3"
    },
    "language_info": {
      "name": "python"
    }
  },
  "cells": [
    {
      "cell_type": "markdown",
      "metadata": {
        "id": "view-in-github",
        "colab_type": "text"
      },
      "source": [
        "<a href=\"https://colab.research.google.com/github/rkend006/robotVisionWithC/blob/main/Copy_of_Intro_to_Python.ipynb\" target=\"_parent\"><img src=\"https://colab.research.google.com/assets/colab-badge.svg\" alt=\"Open In Colab\"/></a>"
      ]
    },
    {
      "cell_type": "markdown",
      "metadata": {
        "id": "nZtvkLaHj5fA"
      },
      "source": [
        "# Intro to Python!\n",
        "Python is a very useful programming language especially to learn about machine learning with its simple and understandable syntax."
      ]
    },
    {
      "cell_type": "code",
      "metadata": {
        "colab": {
          "base_uri": "https://localhost:8080/"
        },
        "id": "xyrKGcPcj3rY",
        "outputId": "0380e528-7c14-40d1-bd4e-45cc2116737d"
      },
      "source": [
        "# There are a few basic data types that you'll see everywhere\n",
        "\n",
        "myName = \"Alex\" # strings\n",
        "age = 19 # integers\n",
        "pi = 3.14 # floats\n",
        "canDrinkAlcohol = False # booleans\n",
        "moneySaved = None # NoneType\n",
        "\n",
        "print(f\"My name is {myName} and I am {age} years old\")"
      ],
      "execution_count": null,
      "outputs": [
        {
          "output_type": "stream",
          "name": "stdout",
          "text": [
            "My name is Alex and I am 19 years old\n"
          ]
        }
      ]
    },
    {
      "cell_type": "code",
      "metadata": {
        "colab": {
          "base_uri": "https://localhost:8080/"
        },
        "id": "8Ya2iDhVlExw",
        "outputId": "f4e2e883-db45-4ccb-abcd-494517c9fb85"
      },
      "source": [
        "# integers and floats are quite different from each other\n",
        "# integers are for whole numbers whereas floats are for numbers with decimals\n",
        "\n",
        "print(age, type(age))\n",
        "print(pi, type(pi))\n",
        "\n",
        "# be careful with floats, they can imprecise sometimes!\n",
        "print(0.1+0.1+0.1)\n",
        "\n",
        "print(2 ** 3)\n",
        "\n",
        "# instead of importing sqrt from the math library, we can do this\n",
        "print(16 ** (1/2))"
      ],
      "execution_count": null,
      "outputs": [
        {
          "output_type": "stream",
          "name": "stdout",
          "text": [
            "19 <class 'int'>\n",
            "3.14 <class 'float'>\n",
            "0.30000000000000004\n",
            "8\n",
            "4.0\n"
          ]
        }
      ]
    },
    {
      "cell_type": "code",
      "metadata": {
        "colab": {
          "base_uri": "https://localhost:8080/"
        },
        "id": "Tlgcy5R3lUxM",
        "outputId": "269f841c-bf71-4ec7-940c-d38d70d1dc92"
      },
      "source": [
        "# strings are a data type that you'll see A LOT\n",
        "\n",
        "print(\"My name is \" + myName)\n",
        "print(\"My name is {0}\".format(myName))\n",
        "print(f\"My name is {myName}\\n\")\n",
        "\n",
        "# you can slice strings by giving the start and end positions\n",
        "\n",
        "myName = \"Alex Somwaru\"\n",
        "firstName = myName[0:4]\n",
        "lastName = myName[5:]\n",
        "firstNameLength = len(firstName)\n",
        "\n",
        "print(f\"First name: {firstName}\\nLast name: {lastName}\")\n",
        "print(\"My first name is \" + str(firstNameLength) + \" characters long.\")"
      ],
      "execution_count": null,
      "outputs": [
        {
          "output_type": "stream",
          "name": "stdout",
          "text": [
            "My name is Alex\n",
            "My name is Alex\n",
            "My name is Alex\n",
            "\n",
            "First name: Alex\n",
            "Last name: Somwaru\n",
            "My first name is 4 characters long.\n"
          ]
        }
      ]
    },
    {
      "cell_type": "code",
      "metadata": {
        "colab": {
          "base_uri": "https://localhost:8080/"
        },
        "id": "vxS3gfsymg6o",
        "outputId": "a46ba013-f472-4bc6-f143-a9062bdedffd"
      },
      "source": [
        "# lists are one of most popular data types you'll ever use in python\n",
        "# let's generate a list with numbers 0 to 4 (inclusive)\n",
        "\n",
        "print(\"These will all be the same\")\n",
        "\n",
        "myList = [0,1,2,3,4]\n",
        "print(myList)\n",
        "\n",
        "myList = [x for x in range(5)] # this is a list comprehension\n",
        "evenList = [x for x in range(10) if x % 2 == 0]\n",
        "print(myList)\n",
        "print(evenList)\n",
        "\n",
        "myList = list(range(5)) \n",
        "print(myList)\n",
        "print()\n",
        "\n",
        "# lists can have any data types in it \n",
        "\n",
        "print(\"Adding to the list\")\n",
        "\n",
        "myList.append(firstName)\n",
        "print(myList)\n",
        "\n",
        "\n",
        "print(\"Removing last item\")\n",
        "\n",
        "myList.pop()\n",
        "print(myList)\n",
        "\n",
        "print(\"Removing the first item\")\n",
        "myList.pop(0)\n",
        "print(myList)"
      ],
      "execution_count": null,
      "outputs": [
        {
          "output_type": "stream",
          "name": "stdout",
          "text": [
            "These will all be the same\n",
            "[0, 1, 2, 3, 4]\n",
            "[0, 1, 2, 3, 4]\n",
            "[0, 2, 4, 6, 8]\n",
            "[0, 1, 2, 3, 4]\n",
            "\n",
            "Adding to the list\n",
            "[0, 1, 2, 3, 4, 'Alex']\n",
            "Removing last item\n",
            "[0, 1, 2, 3, 4]\n",
            "Removing the first item\n",
            "[1, 2, 3, 4]\n"
          ]
        }
      ]
    },
    {
      "cell_type": "code",
      "metadata": {
        "colab": {
          "base_uri": "https://localhost:8080/"
        },
        "id": "BkcYQjeotuDI",
        "outputId": "26f66e4f-2a12-4763-8ef2-3e20e1d994b5"
      },
      "source": [
        "# dictionaries are a special data type that can hold other data types like lists\n",
        "# you can even have them inside lists\n",
        "# typically called a hashmap\n",
        "\n",
        "me = {\n",
        "    \"height\": 170.18,\n",
        "    \"hobbies\": [\"programming\", \"reading\", \"video games\"]\n",
        "}\n",
        "\n",
        "# access dictionaries with its key\n",
        "print(f\"My height is {me['height']} in centimeters\")\n",
        "print(f\"My hobbies are {', '.join(me['hobbies'])}\")"
      ],
      "execution_count": null,
      "outputs": [
        {
          "output_type": "stream",
          "name": "stdout",
          "text": [
            "My height is 170.18 in centimeters\n",
            "My height is programming in centimeters\n",
            "My hobbies are programming, reading, video games\n"
          ]
        }
      ]
    },
    {
      "cell_type": "code",
      "metadata": {
        "colab": {
          "base_uri": "https://localhost:8080/"
        },
        "id": "LKsm-XQtvH90",
        "outputId": "ebd7d01a-b553-41b9-b867-8eb998264cc8"
      },
      "source": [
        "# loops!\n",
        "\n",
        "\"\"\"\n",
        "for (int i=0; i<10; i++) {\n",
        "  print(i)\n",
        "}\n",
        "\"\"\"\n",
        "\n",
        "# for loops\n",
        "for num in range(10): # from 0 to 10 exclusive\n",
        "  print(num, end=\" \") # making the print not add a newline\n",
        "print()\n",
        "\n",
        "print(\"Printing squares\")\n",
        "for i in range(1, 10 + 1): # from 1 to 10 inclusive\n",
        "  print(i ** 2, end=\" \")\n",
        "print()\n",
        "\n",
        "i = 0\n",
        "\n",
        "# Tab-oriented(4 spaces/ 2 spaces, just needs to be same)\n",
        "while i < 20:\n",
        "  print(i)\n",
        "  i += 2 # increment by 2. There's no i++ in python\n"
      ],
      "execution_count": null,
      "outputs": [
        {
          "output_type": "stream",
          "name": "stdout",
          "text": [
            "0 1 2 3 4 5 6 7 8 9 \n",
            "Printing squares\n",
            "1 4 9 16 25 36 49 64 81 100 \n",
            "0\n",
            "2\n",
            "4\n",
            "6\n",
            "8\n",
            "10\n",
            "12\n",
            "14\n",
            "16\n",
            "18\n"
          ]
        }
      ]
    },
    {
      "cell_type": "code",
      "metadata": {
        "colab": {
          "base_uri": "https://localhost:8080/"
        },
        "id": "W6hDfqKnnobM",
        "outputId": "07464cac-ee06-4a52-fec7-5768be649f8d"
      },
      "source": [
        "# functions are pretty simple but are dynamic as variables\n",
        "# you don't need to specify the types for the variable passed/returned\n",
        "# in the functions but it's nice to\n",
        "def show(name):\n",
        "  print(name)\n",
        "\n",
        "def displayName(name: str) -> None:\n",
        "  print(f\"My name is {name}\")\n",
        "\n",
        "# you can have default values if not specified\n",
        "def repeatName(name: str, reps: int = 3) -> None:\n",
        "  for n in range(reps):\n",
        "    print(name)\n",
        "\n",
        "def cube(num: int) -> int:\n",
        "  # returns will send a value back so that you can save it in a variable if you \n",
        "  # want\n",
        "  return int(num ** 3) \n",
        "\n",
        "displayName(\"Ryan Kendrick\")\n",
        "repeatName(\"Alex\")\n",
        "print(cube(9))"
      ],
      "execution_count": null,
      "outputs": [
        {
          "output_type": "stream",
          "name": "stdout",
          "text": [
            "My name is Ryan Kendrick\n",
            "Alex\n",
            "Alex\n",
            "Alex\n",
            "729\n"
          ]
        }
      ]
    },
    {
      "cell_type": "code",
      "metadata": {
        "colab": {
          "base_uri": "https://localhost:8080/"
        },
        "id": "9h5iJ95htQSc",
        "outputId": "3681eac7-d018-4f67-b18a-38e95d58954d"
      },
      "source": [
        "# library imports are pretty simple\n",
        "import math\n",
        "from math import sqrt\n",
        "\n",
        "print(f\"Square root of 4 is {sqrt(4)}\")"
      ],
      "execution_count": null,
      "outputs": [
        {
          "output_type": "stream",
          "name": "stdout",
          "text": [
            "Square root of 4 is 2.0\n"
          ]
        }
      ]
    },
    {
      "cell_type": "markdown",
      "metadata": {
        "id": "Q30lBZaUx1yM"
      },
      "source": [
        "\n",
        "\n",
        "**NumPy** is a library for the Python programming language, adding support for large, multi-dimensional arrays and matrices, along with a large collection of high-level mathematical functions to operate on these arrays.\n",
        "\n",
        "\n"
      ]
    },
    {
      "cell_type": "code",
      "metadata": {
        "colab": {
          "base_uri": "https://localhost:8080/"
        },
        "id": "AGF2pLo1mTDM",
        "outputId": "37d4f8a3-d331-4b23-be30-ababe26d147d"
      },
      "source": [
        "# Here is a NumPy example:\n",
        "import numpy as np\n",
        "\n",
        "height_in = [74, 74, 72, 72, 73, 69, 69, 71, 76, 71, 73, 73, 74, 74, 69, 70, 73, 75, 78, 79,\n",
        "             76, 74, 76, 72, 71, 75, 77, 74, 73, 74, 78, 73, 75, 73, 75, 75, 74, 69, 71, 74,\n",
        "             73, 73, 76, 74, 74, 70, 72, 77, 74, 70, 73, 75, 76, 76, 78, 74, 74, 76, 77, 81,\n",
        "             78, 75, 77, 75, 76, 74, 72, 72, 75, 73, 73, 73, 70, 70, 70, 76, 68, 71, 72, 75,\n",
        "             75, 75, 75, 68, 74, 78, 71, 73, 76, 74, 74, 79, 75, 73, 76, 74, 74, 73, 72, 74,\n",
        "             73, 74, 72, 73, 69, 72, 73, 75, 75, 73, 72, 72, 76, 74, 72, 77, 74, 77, 75, 76,\n",
        "             80, 74, 74, 75, 78, 73, 73, 74, 75, 76, 71, 73, 74, 76, 76, 74, 73, 74, 70, 72,\n",
        "             73, 73, 73, 73, 71, 74, 74, 72, 74, 71, 74, 73, 75, 75, 79, 73, 75, 76, 74, 76,\n",
        "             78, 74, 76, 72, 74, 76, 74, 75, 78, 75, 72, 74, 72, 74, 70, 71, 70, 75, 71, 71,\n",
        "             73, 72, 71, 73, 72, 75, 74, 74, 75, 73, 77, 73, 76, 75, 74, 76, 75, 73, 71, 76]\n",
        "\n",
        "weight_lb = [180, 215, 210, 210, 188, 176, 209, 200, 231, 180, 188, 180, 185, 160, 180, 185, 189, 185, 219, 230,\n",
        "             205, 230, 195, 180, 192, 225, 203, 195, 182, 188, 200, 180, 200, 200, 245, 240, 215, 185, 175, 199,\n",
        "             200, 215, 200, 205, 206, 186, 188, 220, 210, 195, 200, 200, 212, 224, 210, 205, 220, 195, 200, 260,\n",
        "             228, 270, 200, 210, 190, 220, 180, 205, 210, 220, 211, 200, 180, 190, 170, 230, 155, 185, 185, 200,\n",
        "             225, 225, 220, 160, 205, 235, 250, 210, 190, 160, 200, 205, 222, 195, 205, 220, 220, 170, 185, 195,\n",
        "             220, 230, 180, 220, 180, 180, 170, 210, 215, 200, 213, 180, 192, 235, 185, 235, 210, 222, 210, 230,\n",
        "             220, 180, 190, 200, 210, 194, 180, 190, 240, 200, 198, 200, 195, 210, 220, 190, 210, 225, 180, 185,\n",
        "             170, 185, 185, 180, 178, 175, 200, 204, 211, 190, 210, 190, 190, 185, 290, 175, 185, 200, 220, 170,\n",
        "             220, 190, 220, 205, 200, 250, 225, 215, 210, 215, 195, 200, 194, 220, 180, 180, 170, 195, 180, 170,\n",
        "             206, 205, 200, 225, 201, 225, 233, 180, 225, 180, 220, 180, 237, 215, 190, 235, 190, 180, 165, 195]\n",
        "\n",
        "# Calculate the BMI: bmi\n",
        "np_height_m = np.array(height_in) * 0.0254\n",
        "np_weight_kg = np.array(weight_lb) * 0.453592\n",
        "bmi = np_weight_kg / np_height_m ** 2\n",
        "\n",
        "# Create the light array for players with a light bmi\n",
        "light = bmi<21\n",
        "\n",
        "# Print out the boolean array of the light players:\n",
        "print('\\nHere is the truth value of the light players:\\n')\n",
        "print(light)\n",
        "\n",
        "# Print out BMIs of all baseball players whose BMI is below 21\n",
        "print('\\n\\nHere is how many players have a bmi under 21\\n')\n",
        "print(len(bmi[light]))\n",
        "\n",
        "print('\\nThe values are:')\n",
        "print(bmi[light])"
      ],
      "execution_count": null,
      "outputs": [
        {
          "output_type": "stream",
          "name": "stdout",
          "text": [
            "\n",
            "Here is the truth value of the light players:\n",
            "\n",
            "[False False False False False False False False False False False False\n",
            " False  True False False False False False False False False False False\n",
            " False False False False False False False False False False False False\n",
            " False False False False False False False False False False False False\n",
            " False False False False False False False False False False False False\n",
            " False False False False False False False False False False False False\n",
            " False False False False False False False False False False False False\n",
            " False False False False False  True False False False False False False\n",
            " False False False False False False False False False False False False\n",
            " False False False False False False False False False False False False\n",
            " False False False False False False False False False False False False\n",
            " False False False False False False False False False False False False\n",
            " False False False False False False False False False False False False\n",
            " False False False  True False False False False False False False False\n",
            " False False False False False False False False False False False False\n",
            " False False False False False False False False False False False False\n",
            " False False False False False False False False]\n",
            "\n",
            "\n",
            "Here is how many players have a bmi under 21\n",
            "\n",
            "3\n",
            "\n",
            "The values are:\n",
            "[20.54255679 20.54255679 20.69282047]\n"
          ]
        }
      ]
    },
    {
      "cell_type": "markdown",
      "metadata": {
        "id": "FFdeaoGmmbiP"
      },
      "source": [
        "**Dictionaries** are used to store data values in key:value pairs. A dictionary is a collection which is ordered, changeable and does not allow duplicates."
      ]
    },
    {
      "cell_type": "code",
      "metadata": {
        "id": "0cuE8-4YwRTk",
        "colab": {
          "base_uri": "https://localhost:8080/"
        },
        "outputId": "2d2d3c11-f39b-47e0-a698-0f6395f6bf68"
      },
      "source": [
        "\n",
        "# Here is our dictionary:\n",
        "europe = { 'spain': { 'capital':'Madrid', 'population':46.77 },\n",
        "           'norway': { 'capital':'Oslo', 'population':5.084 } }\n",
        "\n",
        "# Let's add Italy:\n",
        "europe['italy'] = {'capital':'rome', 'population':59.83}\n",
        "\n",
        "# The dictionary prints the corresponding values of what you are asking for, all countries have a capital and a population category.\n",
        "print('The capital of Norway is: ' + europe['norway']['capital'])\n",
        "\n",
        "print('\\nHere is a list of all the Countries:')\n",
        "print(europe)\n"
      ],
      "execution_count": null,
      "outputs": [
        {
          "output_type": "stream",
          "name": "stdout",
          "text": [
            "The capital of Norway is: Oslo\n",
            "\n",
            "Here is a list of all the Countries:\n",
            "{'spain': {'capital': 'Madrid', 'population': 46.77}, 'norway': {'capital': 'Oslo', 'population': 5.084}, 'italy': {'capital': 'rome', 'population': 59.83}}\n"
          ]
        }
      ]
    },
    {
      "cell_type": "markdown",
      "metadata": {
        "id": "DcQjVAa1YgN6"
      },
      "source": [
        "Dictionaries are a great way to store your data, it is a good start but pandas is much better for numerical tables based on category.\n",
        "\n",
        "We will need pandas to manipulate the data from the csv file and organize our data by category.\n",
        "\n",
        "**Pandas** offers data structures and operations for manipulating numerical tables and time series.\n",
        "\n",
        "Let's take a look at the pandas data structure: "
      ]
    },
    {
      "cell_type": "code",
      "metadata": {
        "colab": {
          "base_uri": "https://localhost:8080/"
        },
        "id": "jU7d8OqZZjtF",
        "outputId": "57a1260c-2b83-4db2-9a7b-b2b28d3ca009"
      },
      "source": [
        "import pandas as pd\n",
        "\n",
        "# We will make a dataframe that is easy to use by using the pandas library.\n",
        "\n",
        "names = ['United States', 'Australia', 'Japan', 'India', 'Russia', 'Morocco', 'Egypt']\n",
        "\n",
        "dr =  [True, False, False, False, True, True, True]\n",
        "\n",
        "cpc = [809, 731, 588, 18, 200, 70, 45]\n",
        "\n",
        "cars_dict = { 'country':names, 'drives_right':dr, 'cars_per_cap':cpc }\n",
        "\n",
        "print(cars_dict)\n",
        "print()\n",
        "\n",
        "cars = pd.DataFrame(cars_dict)\n",
        "\n",
        "print(cars)\n"
      ],
      "execution_count": null,
      "outputs": [
        {
          "output_type": "stream",
          "name": "stdout",
          "text": [
            "{'country': ['United States', 'Australia', 'Japan', 'India', 'Russia', 'Morocco', 'Egypt'], 'drives_right': [True, False, False, False, True, True, True], 'cars_per_cap': [809, 731, 588, 18, 200, 70, 45]}\n",
            "\n",
            "         country  drives_right  cars_per_cap\n",
            "0  United States          True           809\n",
            "1      Australia         False           731\n",
            "2          Japan         False           588\n",
            "3          India         False            18\n",
            "4         Russia          True           200\n",
            "5        Morocco          True            70\n",
            "6          Egypt          True            45\n"
          ]
        }
      ]
    },
    {
      "cell_type": "code",
      "metadata": {
        "colab": {
          "base_uri": "https://localhost:8080/"
        },
        "id": "RtFsWOx2aeSD",
        "outputId": "fea66ea5-4f9c-44db-acb0-881355159bd7"
      },
      "source": [
        "\n",
        "# Definition of row_labels\n",
        "row_labels = ['US', 'AUS', 'JPN', 'IN', 'RU', 'MOR', 'EG']\n",
        "\n",
        "# Specify row labels of cars\n",
        "cars.index = row_labels\n",
        "\n",
        "# Print cars again\n",
        "print(cars)\n"
      ],
      "execution_count": null,
      "outputs": [
        {
          "output_type": "stream",
          "name": "stdout",
          "text": [
            "           country  drives_right  cars_per_cap\n",
            "US   United States          True           809\n",
            "AUS      Australia         False           731\n",
            "JPN          Japan         False           588\n",
            "IN           India         False            18\n",
            "RU          Russia          True           200\n",
            "MOR        Morocco          True            70\n",
            "EG           Egypt          True            45\n"
          ]
        }
      ]
    },
    {
      "cell_type": "markdown",
      "metadata": {
        "id": "1cr2ZG5mV_ai"
      },
      "source": [
        "Now let's talk about importing files.\n",
        "\n",
        "We will start with a **CSV** file. This stands for..."
      ]
    },
    {
      "cell_type": "code",
      "metadata": {
        "id": "85w6Td_HWEuC"
      },
      "source": [
        "\n",
        "# Here is how you import data. This CSV is saved in the google colab files in the sample_data file.\n",
        "games_file = 'sample_data/Video_Games.csv'\n",
        "\n",
        "# We are using the pandas library to read this dataframe.\n",
        "games_df = pd.read_csv(games_file, na_values='NaN')\n",
        "\n",
        "# It is important to use na_values and assign it to a variable such as NaN so your data is uniform and complete.\n",
        "# Whenever there is data missing from a dataframe, it is your job to either fill it (maybe with a median value) or remove the data."
      ],
      "execution_count": null,
      "outputs": []
    },
    {
      "cell_type": "markdown",
      "metadata": {
        "id": "LCGnvGdfDaUC"
      },
      "source": [
        "Now we will do a little exploratory data analysis to see what our data looks like."
      ]
    },
    {
      "cell_type": "code",
      "metadata": {
        "colab": {
          "base_uri": "https://localhost:8080/"
        },
        "id": "DNQR1x87353l",
        "outputId": "de652fd8-0e7a-4b0a-8835-2a02755cf222"
      },
      "source": [
        "\n",
        "# Print the head of the data which is the first 5 values:\n",
        "print('Here is the head of the data:\\n')\n",
        "print(games_df.head())\n",
        "\n",
        "# Print out first three entries of d\n",
        "print('\\n\\nHere is the first 3 entries:')\n",
        "print(games_df[:3])\n",
        "\n",
        "print('\\n\\nHere is the Shape of the data frame:')\n",
        "print(games_df.shape)\n",
        "\n",
        "print('\\n\\nHere is the index of the columns:')\n",
        "print(games_df.columns)\n"
      ],
      "execution_count": null,
      "outputs": [
        {
          "output_type": "stream",
          "name": "stdout",
          "text": [
            "Here is the head of the data:\n",
            "\n",
            "                       Name Platform  ...  Developer Rating\n",
            "0                Wii Sports      Wii  ...   Nintendo      E\n",
            "1         Super Mario Bros.      NES  ...        NaN    NaN\n",
            "2            Mario Kart Wii      Wii  ...   Nintendo      E\n",
            "3         Wii Sports Resort      Wii  ...   Nintendo      E\n",
            "4  Pokemon Red/Pokemon Blue       GB  ...        NaN    NaN\n",
            "\n",
            "[5 rows x 16 columns]\n",
            "\n",
            "\n",
            "Here is the first 3 entries:\n",
            "                Name Platform  Year_of_Release  ... User_Count Developer  Rating\n",
            "0         Wii Sports      Wii           2006.0  ...      322.0  Nintendo       E\n",
            "1  Super Mario Bros.      NES           1985.0  ...        NaN       NaN     NaN\n",
            "2     Mario Kart Wii      Wii           2008.0  ...      709.0  Nintendo       E\n",
            "\n",
            "[3 rows x 16 columns]\n",
            "\n",
            "\n",
            "Here is the Shape of the data frame:\n",
            "(16719, 16)\n",
            "\n",
            "\n",
            "Here is the index of the columns:\n",
            "Index(['Name', 'Platform', 'Year_of_Release', 'Genre', 'Publisher', 'NA_Sales',\n",
            "       'EU_Sales', 'JP_Sales', 'Other_Sales', 'Global_Sales', 'Critic_Score',\n",
            "       'Critic_Count', 'User_Score', 'User_Count', 'Developer', 'Rating'],\n",
            "      dtype='object')\n"
          ]
        }
      ]
    },
    {
      "cell_type": "code",
      "metadata": {
        "colab": {
          "base_uri": "https://localhost:8080/",
          "height": 295
        },
        "id": "koz3XGlGyRsn",
        "outputId": "239f6605-4f3f-4b70-ce2f-0e7a7891594d"
      },
      "source": [
        "import matplotlib as mpl\n",
        "import matplotlib.pyplot as plt\n",
        "\n",
        "# Plot 'Year_of_Release' variable in a histogram\n",
        "pd.DataFrame.hist(games_df[['Year_of_Release']])\n",
        "\n",
        "# Add labels to the graph.\n",
        "plt.xlabel('Year released')\n",
        "\n",
        "plt.ylabel('Number of top games')\n",
        "\n",
        "# Output the histogram\n",
        "plt.show()"
      ],
      "execution_count": null,
      "outputs": [
        {
          "output_type": "display_data",
          "data": {
            "image/png": "[encoded data removed]",
            "text/plain": [
              "<Figure size 432x288 with 1 Axes>"
            ]
          },
          "metadata": {
            "needs_background": "light"
          }
        }
      ]
    },
    {
      "cell_type": "markdown",
      "metadata": {
        "id": "ts_wHisTeZVt"
      },
      "source": [
        "Now we will compare two separate generes, Sports and Shooter:"
      ]
    },
    {
      "cell_type": "code",
      "metadata": {
        "colab": {
          "base_uri": "https://localhost:8080/",
          "height": 573
        },
        "id": "IeLSgYNXeXpb",
        "outputId": "0eb109d9-e769-4e8e-b78f-17efaccbd5d5"
      },
      "source": [
        "# Here we are using boolean operators to create new dataframes.\n",
        "# These are separated by the Genre column and the True value if the name corresponds correctly.\n",
        "sports_df = games_df[games_df['Genre'] == 'Sports']\n",
        "shooter_df = games_df[games_df['Genre'] == 'Shooter']\n",
        "\n",
        "\n",
        "fig, ax = plt.subplots()\n",
        "\n",
        "ax.hist(sports_df['Year_of_Release'], color = 'r')\n",
        "\n",
        "ax.hist(shooter_df['Year_of_Release'], color = 'b')\n",
        "\n",
        "# Add labels to the graph.\n",
        "ax.set_xlabel( \"Year released\")\n",
        "\n",
        "ax.set_ylabel( \"Number of top games\")\n",
        "\n",
        "# Print the head of the top 5 from each category.\n",
        "print(sports_df.head())\n",
        "print(shooter_df.head())\n",
        "\n",
        "# Output the Histogram.\n",
        "plt.show()"
      ],
      "execution_count": null,
      "outputs": [
        {
          "output_type": "stream",
          "name": "stdout",
          "text": [
            "                 Name Platform  Year_of_Release  ... User_Count  Developer  Rating\n",
            "0          Wii Sports      Wii           2006.0  ...      322.0   Nintendo       E\n",
            "3   Wii Sports Resort      Wii           2009.0  ...      192.0   Nintendo       E\n",
            "13            Wii Fit      Wii           2007.0  ...      146.0   Nintendo       E\n",
            "15       Wii Fit Plus      Wii           2009.0  ...       52.0   Nintendo       E\n",
            "77            FIFA 16      PS4           2015.0  ...      896.0  EA Sports       E\n",
            "\n",
            "[5 rows x 16 columns]\n",
            "                              Name  ... Rating\n",
            "9                        Duck Hunt  ...    NaN\n",
            "29  Call of Duty: Modern Warfare 3  ...      M\n",
            "31       Call of Duty: Black Ops 3  ...    NaN\n",
            "32         Call of Duty: Black Ops  ...      M\n",
            "34      Call of Duty: Black Ops II  ...      M\n",
            "\n",
            "[5 rows x 16 columns]\n"
          ]
        },
        {
          "output_type": "display_data",
          "data": {
            "image/png": "[encoded data removed]",
            "text/plain": [
              "<Figure size 432x288 with 1 Axes>"
            ]
          },
          "metadata": {
            "needs_background": "light"
          }
        }
      ]
    },
    {
      "cell_type": "code",
      "metadata": {
        "id": "Lh1l_bnWlGqY"
      },
      "source": [
        ""
      ],
      "execution_count": null,
      "outputs": []
    }
  ]
}